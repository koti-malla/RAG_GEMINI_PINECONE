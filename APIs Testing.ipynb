{
 "cells": [
  {
   "cell_type": "markdown",
   "id": "50dd22fd-29b1-4a64-9a65-adde65c2a78f",
   "metadata": {},
   "source": [
    "### Upload the file here\n"
   ]
  },
  {
   "cell_type": "code",
   "execution_count": 2,
   "id": "6deaec91-2823-45a9-929e-6598cb74445e",
   "metadata": {},
   "outputs": [
    {
     "name": "stdout",
     "output_type": "stream",
     "text": [
      "{'message': 'Document uploaded and indexed successfully'}\n"
     ]
    }
   ],
   "source": [
    "import requests\n",
    "\n",
    "\n",
    "url = 'http://127.0.0.1:5000/upload'\n",
    "\n",
    "\n",
    "file_path = r\"C:\\Users\\koti0\\OneDrive\\Desktop\\New folder\\FINANCIAL-SERVICES-6th-Sem.pdf\"  # Replace with your file path\n",
    "chat_name = 'financial_services'  # Replace with your chat name\n",
    "\n",
    "\n",
    "with open(file_path, 'rb') as file:\n",
    "    \n",
    "    files = {'file': (file_path, file, 'application/pdf')}\n",
    "    data = {'chat_name': chat_name}\n",
    "\n",
    "    response = requests.post(url, files=files, data=data)\n",
    "\n",
    "    try:\n",
    "        print(response.json())\n",
    "\n",
    "    except ValueError:\n",
    "        print(\"Response is not in JSON format:\", response.text)"
   ]
  },
  {
   "cell_type": "code",
   "execution_count": null,
   "id": "c7bff9c3-236a-42c0-9fac-6406f0eeed68",
   "metadata": {},
   "outputs": [],
   "source": []
  },
  {
   "cell_type": "markdown",
   "id": "02e03782-cb86-46e0-8d9d-6dba1e1c7537",
   "metadata": {},
   "source": [
    "### Query Here"
   ]
  },
  {
   "cell_type": "code",
   "execution_count": 4,
   "id": "d264ed46-1f54-444e-a3dc-68c613548a13",
   "metadata": {},
   "outputs": [
    {
     "data": {
      "text/markdown": [
       "I am sorry, but the provided text discusses the advantages and disadvantages of factoring, a financial strategy, and does not contain any information about the effects of CO2. \n"
      ],
      "text/plain": [
       "<IPython.core.display.Markdown object>"
      ]
     },
     "metadata": {},
     "output_type": "display_data"
    }
   ],
   "source": [
    "import requests\n",
    "\n",
    "from IPython.display import Markdown\n",
    "\n",
    "\n",
    "url = 'http://127.0.0.1:5000/query'\n",
    "\n",
    "query = \"What are the effects of CO2?\" \n",
    "\n",
    "chat_name = 'financial_services'  # Replace with your chat name\n",
    "\n",
    "data = {\"query\": query, 'chat_name': chat_name}\n",
    "\n",
    "response = requests.post(url, data=data)\n",
    "\n",
    "\n",
    "try:\n",
    "    display(Markdown(response.json()[\"response\"]))\n",
    "\n",
    "except ValueError:\n",
    "\n",
    "    print(\"Response is not in JSON format:\", response.text)"
   ]
  }
 ],
 "metadata": {
  "kernelspec": {
   "display_name": "Python 3 (ipykernel)",
   "language": "python",
   "name": "python3"
  },
  "language_info": {
   "codemirror_mode": {
    "name": "ipython",
    "version": 3
   },
   "file_extension": ".py",
   "mimetype": "text/x-python",
   "name": "python",
   "nbconvert_exporter": "python",
   "pygments_lexer": "ipython3",
   "version": "3.9.0"
  }
 },
 "nbformat": 4,
 "nbformat_minor": 5
}
